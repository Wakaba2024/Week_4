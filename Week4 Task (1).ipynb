{
 "cells": [
  {
   "cell_type": "markdown",
   "id": "f8517950-c0c4-493e-88c3-aca2113d52d5",
   "metadata": {},
   "source": [
    "# WEEK FOUR TASKS"
   ]
  },
  {
   "cell_type": "code",
   "execution_count": null,
   "id": "534132f1-19d5-46ae-909e-0757fdc0056e",
   "metadata": {},
   "outputs": [],
   "source": [
    "1. Python Program to Check Whether a String is a Palindrome Using a Stack"
   ]
  },
  {
   "cell_type": "code",
   "execution_count": 4,
   "id": "52e127fe-498d-4f2d-a6fd-8aa61287c0c6",
   "metadata": {},
   "outputs": [
    {
     "name": "stdin",
     "output_type": "stream",
     "text": [
      "Please enter the string:  dad\n"
     ]
    },
    {
     "name": "stdout",
     "output_type": "stream",
     "text": [
      "The string is a palindrome.\n"
     ]
    }
   ],
   "source": [
    "# Create a class Stack with instance variable items initialized to an empty list.\n",
    "class Stack:\n",
    "# Define methods push, pop and is_empty.    \n",
    "    def __init__(self):\n",
    "        self.items = []\n",
    " \n",
    "    def is_empty(self):\n",
    "        return self.items == []\n",
    " \n",
    "    def push(self, data):\n",
    "        self.items.append(data)\n",
    " \n",
    "    def pop(self):\n",
    "        return self.items.pop()\n",
    "# push appends data to items.\n",
    "# pop pops the first element in items.\n",
    "# is_empty returns True only if items is empty.\n",
    "\n",
    "# Prompt the user for a string and push all the characters to a stack.\n",
    "s = Stack()\n",
    "text = input('Please enter the string: ')\n",
    " \n",
    "for character in text:\n",
    "    s.push(character)\n",
    "# Construct the reversed string by popping characters from the stack.\n",
    "reversed_text = ''\n",
    "while not s.is_empty():\n",
    "    reversed_text = reversed_text + s.pop()\n",
    "# Deterime whether the string is palindromic by comparing the two strings.\n",
    "if text == reversed_text:\n",
    "    print('The string is a palindrome.')\n",
    "else:\n",
    "    print('The string is not a palindrome.')"
   ]
  },
  {
   "cell_type": "code",
   "execution_count": null,
   "id": "c68ec87a-bf31-46cb-a289-5253ddfcda68",
   "metadata": {},
   "outputs": [],
   "source": [
    "# The program prompts the user for a string and checks whether it is a palindrome using a stack.\n",
    "# Create a class Stack with instance variable items initialized to an empty list.\n",
    "# Define methods push, pop and is_empty inside the class Stack.\n",
    "# The method push appends data to items.\n",
    "# The method pop pops the first element in items.\n",
    "# The method is_empty returns True only if items is empty.\n",
    "# Prompt the user for a string and push all the characters to a stack.\n",
    "# Construct the reversed string by popping characters from the stack.\n",
    "# Deterime whether the string is palindromic by comparing the two strings."
   ]
  },
  {
   "cell_type": "code",
   "execution_count": null,
   "id": "6a4583f6-8237-4d7a-8603-d2bbe57d7418",
   "metadata": {},
   "outputs": [],
   "source": [
    "2. Explain the concept of list comprehension in Python with at least three examples."
   ]
  },
  {
   "cell_type": "code",
   "execution_count": null,
   "id": "ddef1d34-c191-4ce9-9eea-6847778abe6b",
   "metadata": {},
   "outputs": [],
   "source": [
    "List comprehension generally provides a concise and elegant way to create lists.\n",
    "List comprehension lets you construct a list in a single line of code.\n",
    "In python one Lists are a collection of data surrounded by brackets and the elements are separated by commas.\n",
    "List comprehension is also surrounded by brackets but instead of a list of data inside you enter an expression followed by for loops and if clauses."
   ]
  },
  {
   "cell_type": "code",
   "execution_count": null,
   "id": "22744ef1-c9d0-4070-ac99-404faeff7e3d",
   "metadata": {},
   "outputs": [],
   "source": [
    "List comprehension syntax\n",
    "Best form syntax: [expr for val in collection]\n",
    "# The first expression generates the elements in the list.\n",
    "# You follow this with a for loop over some collection of data.\n",
    "# This will evaluate the expression for every item in the collection\n",
    "If you only want to include the expression for certain pieces of data you can add on an if clause after the for loop\n",
    "[expr for val in collection if <test>]                                                                                                        \n",
    "The expression will be added to the list only if the if clause is true\n",
    "One can have more than one if clause\n",
    "[expr for val in collection if <test1> and <test2>]  \n",
    "One can loop over more than one collection\n",
    "[expr for val1 in collection1 and val2 in collection2]  "
   ]
  },
  {
   "cell_type": "code",
   "execution_count": 12,
   "id": "e6f7ee36-cc4b-4cde-b1f0-8e9d25e2c346",
   "metadata": {},
   "outputs": [
    {
     "name": "stdout",
     "output_type": "stream",
     "text": [
      "[1, 4, 9, 16, 25, 36, 49, 64, 81, 100, 121, 144, 169, 196, 225, 256, 289, 324, 361, 400, 441, 484, 529, 576, 625, 676, 729, 784, 841, 900, 961, 1024, 1089, 1156, 1225, 1296, 1369, 1444, 1521, 1600, 1681, 1764, 1849, 1936, 2025, 2116, 2209, 2304, 2401, 2500, 2601, 2704, 2809, 2916, 3025, 3136, 3249, 3364, 3481, 3600, 3721, 3844, 3969, 4096, 4225, 4356, 4489, 4624, 4761, 4900, 5041, 5184, 5329, 5476, 5625, 5776, 5929, 6084, 6241, 6400, 6561, 6724, 6889, 7056, 7225, 7396, 7569, 7744, 7921, 8100, 8281, 8464, 8649, 8836, 9025, 9216, 9409, 9604, 9801, 10000]\n"
     ]
    }
   ],
   "source": [
    "#EXAMPLE 1: Create a list of the squares of the first 100 positive integers \n",
    "Squares2=[i**2 for i in range (1,101)]\n",
    "print(Squares2)"
   ]
  },
  {
   "cell_type": "code",
   "execution_count": 15,
   "id": "1f9760af-bce9-4101-a748-8d440f9d4b7a",
   "metadata": {},
   "outputs": [
    {
     "name": "stdout",
     "output_type": "stream",
     "text": [
      "['Gone with the Wind', 'Godzilla', 'Gladiator', 'Gravity', 'Guardians of the Galaxy', 'Goodfellas', 'Get Out', 'Green Book', 'Gangs of New York', 'Gran Torino']\n"
     ]
    }
   ],
   "source": [
    "# Example 2: Create a list comprehension that has an if clause\n",
    "# We have a list of movies and want to find the ones that start with letter g.\n",
    "movies = [    \"Gone with the Wind\", \"Godzilla\", \"Gladiator\", \"Gravity\", \"Guardians of the Galaxy\", \n",
    "    \"Goodfellas\", \"Get Out\", \"Green Book\", \"Gangs of New York\", \"Gran Torino\",\n",
    "    \"Inception\", \"The Dark Knight\", \"Pulp Fiction\", \"The Shawshank Redemption\", \"Forrest Gump\", \n",
    "    \"The Godfather\", \"The Matrix\", \"The Avengers\", \"Fight Club\", \"Titanic\",\n",
    "    \"Jurassic Park\", \"The Lion King\", \"Star Wars\", \"Back to the Future\", \"The Terminator\", \n",
    "    \"Jaws\", \"Rocky\", \"Braveheart\", \"E.T. the Extra-Terrestrial\", \"The Silence of the Lambs\"]\n",
    "    \n",
    "gmovies=[title for title in movies if title.startswith(\"G\")]\n",
    "print(gmovies)\n"
   ]
  },
  {
   "cell_type": "code",
   "execution_count": 17,
   "id": "20d68c53-30c1-4760-8962-2bdc94ac1d68",
   "metadata": {},
   "outputs": [
    {
     "name": "stdout",
     "output_type": "stream",
     "text": [
      "['Gone with the Wind', 'Godzilla', 'Goodfellas', 'Pulp Fiction', 'The Shawshank Redemption', 'Forrest Gump', 'The Godfather', 'The Matrix', 'Fight Club', 'Titanic', 'Jurassic Park', 'The Lion King', 'Star Wars: Episode IV - A New Hope', 'Back to the Future', 'The Terminator', 'Jaws', 'Rocky', 'Braveheart', 'E.T. the Extra-Terrestrial', 'The Silence of the Lambs', \"Schindler's List\", 'The Empire Strikes Back', 'The Godfather Part II', 'The Green Mile', 'Saving Private Ryan']\n"
     ]
    }
   ],
   "source": [
    "\n",
    "\n",
    "\n",
    "movies_with_years = [\n",
    "    (\"Gone with the Wind\", 1939),\n",
    "    (\"Godzilla\", 1954),\n",
    "    (\"Gladiator\", 2000),\n",
    "    (\"Gravity\", 2013),\n",
    "    (\"Guardians of the Galaxy\", 2014),\n",
    "    (\"Goodfellas\", 1990),\n",
    "    (\"Get Out\", 2017),\n",
    "    (\"Green Book\", 2018),\n",
    "    (\"Gangs of New York\", 2002),\n",
    "    (\"Gran Torino\", 2008),\n",
    "    (\"Inception\", 2010),\n",
    "    (\"The Dark Knight\", 2008),\n",
    "    (\"Pulp Fiction\", 1994),\n",
    "    (\"The Shawshank Redemption\", 1994),\n",
    "    (\"Forrest Gump\", 1994),\n",
    "    (\"The Godfather\", 1972),\n",
    "    (\"The Matrix\", 1999),\n",
    "    (\"The Avengers\", 2012),\n",
    "    (\"Fight Club\", 1999),\n",
    "    (\"Titanic\", 1997),\n",
    "    (\"Jurassic Park\", 1993),\n",
    "    (\"The Lion King\", 1994),\n",
    "    (\"Star Wars: Episode IV - A New Hope\", 1977),\n",
    "    (\"Back to the Future\", 1985),\n",
    "    (\"The Terminator\", 1984),\n",
    "    (\"Jaws\", 1975),\n",
    "    (\"Rocky\", 1976),\n",
    "    (\"Braveheart\", 1995),\n",
    "    (\"E.T. the Extra-Terrestrial\", 1982),\n",
    "    (\"The Silence of the Lambs\", 1991),\n",
    "    (\"Schindler's List\", 1993),\n",
    "    (\"The Lord of the Rings: The Fellowship of the Ring\", 2001),\n",
    "    (\"The Empire Strikes Back\", 1980),\n",
    "    (\"The Godfather Part II\", 1974),\n",
    "    (\"The Green Mile\", 1999),\n",
    "    (\"The Departed\", 2006),\n",
    "    (\"Interstellar\", 2014),\n",
    "    (\"Saving Private Ryan\", 1998),\n",
    "    (\"The Prestige\", 2006),\n",
    "    (\"Mad Max: Fury Road\", 2015)\n",
    "]\n",
    "pre2k = [title for (title,year) in movies_with_years if year < 2000]\n",
    "print (pre2k)"
   ]
  },
  {
   "cell_type": "code",
   "execution_count": 18,
   "id": "07fc227a-52ba-4897-8fc6-41ff45c71354",
   "metadata": {},
   "outputs": [
    {
     "name": "stdout",
     "output_type": "stream",
     "text": [
      "[(1, 2), (1, 4), (1, 6), (1, 8), (3, 2), (3, 4), (3, 6), (3, 8), (5, 2), (5, 4), (5, 6), (5, 8), (7, 2), (7, 4), (7, 6), (7, 8)]\n"
     ]
    }
   ],
   "source": [
    "# Example 3: Cartesian product\n",
    "# Use list comprehension to compute the cartesian product of sets\n",
    "# If A and B are sets then the cartesian product is the set of pairs (a,b)\n",
    "# where 'a' is in A and 'b' is in B.\n",
    "# In this case A is a list of odd integers and B is a list of even integers\n",
    "A=[1,3,5,7]\n",
    "B=[2,4,6,8]\n",
    "caretesian_product=[(a,b) for a in A for b in B]\n",
    "print(caretesian_product)"
   ]
  },
  {
   "cell_type": "code",
   "execution_count": 19,
   "id": "3749ae30-fe7b-4eeb-8295-68cd17b611bf",
   "metadata": {},
   "outputs": [
    {
     "name": "stdout",
     "output_type": "stream",
     "text": [
      "['o']\n"
     ]
    }
   ],
   "source": [
    "# use list comprehension to find vowels in the string 'Python'.\n",
    "word = \"Python\"\n",
    "vowels = \"aeiou\"\n",
    "\n",
    "# find vowel in the string \"Python\"\n",
    "result = [char for char in word if char in vowels]\n",
    "\n",
    "print(result)\n"
   ]
  },
  {
   "cell_type": "code",
   "execution_count": null,
   "id": "12226d3c-995f-430e-a8dc-97ebef393a62",
   "metadata": {},
   "outputs": [],
   "source": [
    "3). Explain what a compound datatype is in Python with three examples."
   ]
  },
  {
   "cell_type": "code",
   "execution_count": 25,
   "id": "cf661608-7a22-4977-a7ab-96c20e8c8bae",
   "metadata": {},
   "outputs": [
    {
     "name": "stdout",
     "output_type": "stream",
     "text": [
      "[1, 'hello', 3.14, True]\n"
     ]
    }
   ],
   "source": [
    "# In Python, a compound data type is a type of data that is made up of multiple values or data types. \n",
    "# The two most commonly used compound data types in Python are lists and tuples.\n",
    "\n",
    "# A list can contain elements of different types\n",
    "mixed_list = [1, \"hello\", 3.14, True]\n",
    "print(mixed_list)  \n"
   ]
  },
  {
   "cell_type": "code",
   "execution_count": 22,
   "id": "77ce9a40-ee83-4cb1-8e81-12cd84691957",
   "metadata": {},
   "outputs": [
    {
     "name": "stdout",
     "output_type": "stream",
     "text": [
      "{'name': 'John', 'age': 26, 'city': 'Nairobi'}\n"
     ]
    }
   ],
   "source": [
    "# A dictionary contains key-value pairs\n",
    "my_dict = {\"name\": \"John\", \"age\": 26, \"city\": \"Nairobi\"}\n",
    "print(my_dict) "
   ]
  },
  {
   "cell_type": "code",
   "execution_count": 23,
   "id": "755983c4-c119-4079-9eca-99548254df46",
   "metadata": {},
   "outputs": [
    {
     "name": "stdout",
     "output_type": "stream",
     "text": [
      "(1, 'world', 3.14)\n"
     ]
    }
   ],
   "source": [
    "# A tuple is an immutable sequence of elements\n",
    "my_tuple = (1, \"world\", 3.14)\n",
    "print(my_tuple)  "
   ]
  },
  {
   "cell_type": "code",
   "execution_count": null,
   "id": "84011d29-e03f-4bc7-8b41-f9af94b137c9",
   "metadata": {},
   "outputs": [],
   "source": [
    "4). Write a function that takes a string and returns a list of bigrams."
   ]
  },
  {
   "cell_type": "code",
   "execution_count": 27,
   "id": "86c9a280-d631-4814-9840-906b86c8b85c",
   "metadata": {},
   "outputs": [
    {
     "name": "stdout",
     "output_type": "stream",
     "text": [
      "[('This', 'is'), ('is', 'week'), ('week', '4'), ('4', 'task'), ('task', 'question'), ('question', 'number'), ('number', '4')]\n"
     ]
    }
   ],
   "source": [
    "def generate_bigrams(input_string):\n",
    "    # Split the string into words\n",
    "    words = input_string.split()\n",
    "    # Generate bigrams using list comprehension\n",
    "    bigrams = [(words[i], words[i + 1]) for i in range(len(words) - 1)]\n",
    "    return bigrams\n",
    "\n",
    "# Example usage\n",
    "input_string = \"This is week 4 task question number 4\"\n",
    "bigrams = generate_bigrams(input_string)\n",
    "print(bigrams)\n"
   ]
  },
  {
   "cell_type": "code",
   "execution_count": null,
   "id": "7a81a0af-9735-4810-abb3-5fac0d676618",
   "metadata": {},
   "outputs": [],
   "source": [
    "5). Given a dictionary with keys as letters and values as lists of letters, write a function closest_key to find the key with the input value closest to the beginning of the list."
   ]
  },
  {
   "cell_type": "code",
   "execution_count": 37,
   "id": "7aebf347-bf4a-421f-b773-bdd4047da5ee",
   "metadata": {},
   "outputs": [
    {
     "name": "stdout",
     "output_type": "stream",
     "text": [
      "C\n"
     ]
    }
   ],
   "source": [
    "def closest_key(input_dict, input_value):\n",
    "    closest_key = None\n",
    "    closest_index = float('inf')  # Initialize with a very large value\n",
    "\n",
    "    # Iterate over each key and its list of values in the dictionary\n",
    "    for key, values in input_dict.items():\n",
    "        # Check if the input_value exists in the current list\n",
    "        if input_value in values:\n",
    "            # Find the index of the input_value in the current list\n",
    "            index = values.index(input_value)\n",
    "            # If this index is closer to the beginning (i.e., smaller), update the closest_key\n",
    "            if index < closest_index:\n",
    "                closest_index = index\n",
    "                closest_key = key\n",
    "\n",
    "    return closest_key\n",
    "\n",
    "# Example usage\n",
    "input_dict = {\n",
    "    'A': ['a', 'b', 'c'],\n",
    "    'B': ['d', 'e', 'f'],\n",
    "    'C': ['g', 'h', 'i', 'e']\n",
    "}\n",
    "\n",
    "input_value = 'h'\n",
    "result = closest_key(input_dict, input_value)\n",
    "print(result)  \n"
   ]
  },
  {
   "cell_type": "code",
   "execution_count": null,
   "id": "c488b0ff-c6bf-4a83-abe0-4ce9483e2763",
   "metadata": {},
   "outputs": [],
   "source": []
  }
 ],
 "metadata": {
  "kernelspec": {
   "display_name": "Python 3 (ipykernel)",
   "language": "python",
   "name": "python3"
  },
  "language_info": {
   "codemirror_mode": {
    "name": "ipython",
    "version": 3
   },
   "file_extension": ".py",
   "mimetype": "text/x-python",
   "name": "python",
   "nbconvert_exporter": "python",
   "pygments_lexer": "ipython3",
   "version": "3.12.4"
  }
 },
 "nbformat": 4,
 "nbformat_minor": 5
}
